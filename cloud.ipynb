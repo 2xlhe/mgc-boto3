{
 "cells": [
  {
   "cell_type": "code",
   "execution_count": 157,
   "metadata": {},
   "outputs": [],
   "source": [
    "import boto3\n",
    "import configparser\n",
    "from typing import List\n"
   ]
  },
  {
   "cell_type": "markdown",
   "metadata": {},
   "source": [
    "### Variables\n"
   ]
  },
  {
   "cell_type": "markdown",
   "metadata": {},
   "source": [
    "passos:\n",
    "\n",
    "(V) Pegar credenciais\n",
    "\n",
    "(V) Iniciar sessao\n",
    "\n",
    "conferir se bucket existe, senao criar\n",
    "\n",
    "inserir arquivos no bucket\n",
    "\n",
    "checar arquivos do bucket\n",
    "\n",
    "deletar arquivos do bucket"
   ]
  },
  {
   "cell_type": "code",
   "execution_count": 82,
   "metadata": {},
   "outputs": [],
   "source": [
    "aws_path = \"~/.aws/\"\n",
    "\n",
    "DEFAULT_SESSION = None\n",
    "\n",
    "endpoint_ending_mgc = '.magaluobjects.com/'\n"
   ]
  },
  {
   "cell_type": "markdown",
   "metadata": {},
   "source": [
    "### Setting boto3 up\n"
   ]
  },
  {
   "cell_type": "markdown",
   "metadata": {},
   "source": [
    "### Creating boto3 Session and client\n"
   ]
  },
  {
   "cell_type": "code",
   "execution_count": 140,
   "metadata": {},
   "outputs": [],
   "source": [
    "import boto3\n",
    "\n",
    "def create_session(profile_name, endpoint_ending_mgc):\n",
    "    # Create a session with the specified profile name\n",
    "    session = boto3.Session(profile_name=profile_name)\n",
    "    \n",
    "    # Construct the endpoint URL\n",
    "    endpoint_url = 'https://' + 'br-se1' + endpoint_ending_mgc\n",
    "    \n",
    "    # Create the S3 client using the session and the endpoint URL\n",
    "    client = session.client('s3', endpoint_url=endpoint_url)\n",
    "    \n",
    "    return client\n"
   ]
  },
  {
   "cell_type": "markdown",
   "metadata": {},
   "source": [
    "### Creating bucket\n"
   ]
  },
  {
   "cell_type": "code",
   "execution_count": null,
   "metadata": {},
   "outputs": [],
   "source": [
    "def create_buckets(client, bucket_name):\n",
    "    try:\n",
    "        print(f\"Creating bucket {bucket_name}\")\n",
    "        client.create_bucket(Bucket=bucket_name)  \n",
    "    except Exception as e:\n",
    "        print(f\"Error creating bucket: {bucket_name}, bucket exists\")\n",
    "\n",
    "def list_buckets(client) -> List[str]:\n",
    "    response = client.list_buckets()\n",
    "    bucket_list = []\n",
    "\n",
    "    for bucket in response['Buckets']:\n",
    "        bucket_list.append(bucket)\n",
    "        print(f\"Bucket {bucket} exists.\")\n",
    "    \n",
    "    return bucket_list\n",
    "\n",
    "\n",
    "def delete_buckets(client, bucket_name):\n",
    "    try:\n",
    "        print(f\"Deleting bucket {bucket_name}...\")\n",
    "        client.delete_bucket(bucket_name)\n",
    "        \n",
    "    except Exception as e:\n",
    "        print(f\"Bucket {bucket_name} does not exist\")\n"
   ]
  },
  {
   "cell_type": "markdown",
   "metadata": {},
   "source": [
    "### Bucket functions"
   ]
  },
  {
   "cell_type": "code",
   "execution_count": null,
   "metadata": {},
   "outputs": [
    {
     "name": "stdout",
     "output_type": "stream",
     "text": [
      "Bucket {'Name': 'luisbucket', 'CreationDate': datetime.datetime(2024, 11, 18, 15, 6, 6, tzinfo=tzutc())} exists.\n",
      "Bucket {'Name': 'nome-unico-123', 'CreationDate': datetime.datetime(2024, 11, 13, 20, 34, 26, tzinfo=tzutc())} exists.\n",
      "Bucket {'Name': 'novo', 'CreationDate': datetime.datetime(2024, 11, 14, 13, 55, 24, tzinfo=tzutc())} exists.\n",
      "Bucket {'Name': 'teste-policy-23', 'CreationDate': datetime.datetime(2024, 10, 30, 17, 15, 10, tzinfo=tzutc())} exists.\n"
     ]
    }
   ],
   "source": [
    "\n"
   ]
  },
  {
   "cell_type": "code",
   "execution_count": 156,
   "metadata": {},
   "outputs": [
    {
     "name": "stdout",
     "output_type": "stream",
     "text": [
      "Creating bucket bucket-tes1t\n"
     ]
    }
   ],
   "source": [
    "profile_name = 'luis'\n",
    "endpoint_ending_mgc = '.magaluobjects.com'  # This is an example suffix, replace with the actual one.\n",
    "\n",
    "# Create the session and client\n",
    "s3_client = create_session(profile_name, endpoint_ending_mgc)\n",
    "\n",
    "\n",
    "create_buckets(s3_client, 'bucket-tes1t')"
   ]
  },
  {
   "cell_type": "code",
   "execution_count": null,
   "metadata": {},
   "outputs": [],
   "source": []
  }
 ],
 "metadata": {
  "kernelspec": {
   "display_name": "Python 3",
   "language": "python",
   "name": "python3"
  },
  "language_info": {
   "codemirror_mode": {
    "name": "ipython",
    "version": 3
   },
   "file_extension": ".py",
   "mimetype": "text/x-python",
   "name": "python",
   "nbconvert_exporter": "python",
   "pygments_lexer": "ipython3",
   "version": "3.10.12"
  }
 },
 "nbformat": 4,
 "nbformat_minor": 2
}
